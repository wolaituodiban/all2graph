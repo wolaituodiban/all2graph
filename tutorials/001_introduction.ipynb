{
 "cells": [
  {
   "cell_type": "markdown",
   "id": "13302bb3",
   "metadata": {},
   "source": [
    "# all2graph基础教程"
   ]
  },
  {
   "cell_type": "markdown",
   "id": "9a2653ca",
   "metadata": {},
   "source": [
    "all2graph是基于图神经网络的深度学习框架，其基本思想在于：<br>\n",
    "1、将数据中的“实体”、“事件”和“属性”转化成图上的点<br>\n",
    "2、将数据中的“从属关系“、”关联关系”和“时序关系”转化成图上的边<br>\n",
    "3、将传统的特征工程转化为“图注意力机”算子<br>\n",
    "以上的三个特性使得all2graph能基本涵盖业务中的大部分数据，并以一种通用的方式进行一般化的建模"
   ]
  },
  {
   "cell_type": "markdown",
   "id": "2e71a5dc",
   "metadata": {},
   "source": [
    "## 1. 数据预处理\n",
    "all2graph使用json作为主要的数据输出格式<br>\n",
    "首先要将一个样本的所有数据组合成一个json字符串<br>\n",
    "我们使用一个模拟生成的假数据用于演示"
   ]
  },
  {
   "cell_type": "code",
   "execution_count": 1,
   "id": "b7f4c48f",
   "metadata": {},
   "outputs": [
    {
     "name": "stderr",
     "output_type": "stream",
     "text": [
      "all2graph version=0.4.1\n"
     ]
    }
   ],
   "source": [
    "import string\n",
    "import json\n",
    "import os\n",
    "\n",
    "import all2graph as ag\n",
    "import numpy as np\n",
    "import pandas as pd\n",
    "import torch\n",
    "from sklearn.metrics import mean_squared_error"
   ]
  },
  {
   "cell_type": "code",
   "execution_count": 2,
   "id": "466ec647",
   "metadata": {},
   "outputs": [
    {
     "name": "stdout",
     "output_type": "stream",
     "text": [
      "100%|##############################################################################################################################################################################################################################################################################| 1000/1000 [00:18<00:00, 53.38it/s]\n"
     ]
    }
   ],
   "source": [
    "train_data_df = []\n",
    "for i in ag.tqdm(range(1000)):\n",
    "    x = []\n",
    "    for _ in range(np.random.randint(1, 200)):\n",
    "        item = {\n",
    "            k: list(np.random.choice(list(string.ascii_letters)+list(string.digits), size=np.random.randint(1, 10)))\n",
    "            for k in np.random.choice(list(string.ascii_letters), size=np.random.randint(1, 10))\n",
    "        }\n",
    "        x.append(item)\n",
    "    x = json.dumps(x, indent=None, separators=(',', ':'))\n",
    "    y = np.mean(list(map(ord, x)))\n",
    "    train_data_df.append({'x': x, 'y': y})\n",
    "train_data_df = pd.DataFrame(train_data_df)\n",
    "train_data_df['y'] = (train_data_df['y'] - train_data_df['y'].mean()) / train_data_df['y'].std()\n",
    "train_data_df['time'] = None"
   ]
  },
  {
   "cell_type": "markdown",
   "id": "94f932fd",
   "metadata": {},
   "source": [
    "数据集的x就是一堆随机生成的json字符串，而y是标准化的ascii码的平均值，time是样本时间（为了兼容性这里不能省略）"
   ]
  },
  {
   "cell_type": "code",
   "execution_count": 3,
   "id": "a4039da5",
   "metadata": {},
   "outputs": [
    {
     "name": "stdout",
     "output_type": "stream",
     "text": [
      "(1000, 3)\n"
     ]
    },
    {
     "data": {
      "text/html": [
       "<div>\n",
       "<style scoped>\n",
       "    .dataframe tbody tr th:only-of-type {\n",
       "        vertical-align: middle;\n",
       "    }\n",
       "\n",
       "    .dataframe tbody tr th {\n",
       "        vertical-align: top;\n",
       "    }\n",
       "\n",
       "    .dataframe thead th {\n",
       "        text-align: right;\n",
       "    }\n",
       "</style>\n",
       "<table border=\"1\" class=\"dataframe\">\n",
       "  <thead>\n",
       "    <tr style=\"text-align: right;\">\n",
       "      <th></th>\n",
       "      <th>x</th>\n",
       "      <th>y</th>\n",
       "      <th>time</th>\n",
       "    </tr>\n",
       "  </thead>\n",
       "  <tbody>\n",
       "    <tr>\n",
       "      <th>0</th>\n",
       "      <td>[{\"U\":[\"L\",\"z\",\"L\",\"g\",\"a\"],\"o\":[\"E\",\"T\",\"X\",\"...</td>\n",
       "      <td>-0.547057</td>\n",
       "      <td>None</td>\n",
       "    </tr>\n",
       "    <tr>\n",
       "      <th>1</th>\n",
       "      <td>[{\"r\":[\"6\",\"6\",\"L\",\"z\",\"d\",\"f\",\"N\"],\"k\":[\"M\",\"...</td>\n",
       "      <td>-0.421042</td>\n",
       "      <td>None</td>\n",
       "    </tr>\n",
       "    <tr>\n",
       "      <th>2</th>\n",
       "      <td>[{\"o\":[\"d\",\"h\",\"n\",\"9\",\"w\",\"g\",\"4\"]},{\"P\":[\"n\"...</td>\n",
       "      <td>-0.256950</td>\n",
       "      <td>None</td>\n",
       "    </tr>\n",
       "    <tr>\n",
       "      <th>3</th>\n",
       "      <td>[{\"K\":[\"9\",\"E\",\"k\",\"y\",\"G\",\"r\",\"G\",\"h\"]},{\"Q\":...</td>\n",
       "      <td>-0.728811</td>\n",
       "      <td>None</td>\n",
       "    </tr>\n",
       "    <tr>\n",
       "      <th>4</th>\n",
       "      <td>[{\"X\":[\"d\",\"F\",\"W\",\"F\",\"l\",\"F\",\"A\",\"I\"],\"M\":[\"...</td>\n",
       "      <td>3.666800</td>\n",
       "      <td>None</td>\n",
       "    </tr>\n",
       "  </tbody>\n",
       "</table>\n",
       "</div>"
      ],
      "text/plain": [
       "                                                   x         y  time\n",
       "0  [{\"U\":[\"L\",\"z\",\"L\",\"g\",\"a\"],\"o\":[\"E\",\"T\",\"X\",\"... -0.547057  None\n",
       "1  [{\"r\":[\"6\",\"6\",\"L\",\"z\",\"d\",\"f\",\"N\"],\"k\":[\"M\",\"... -0.421042  None\n",
       "2  [{\"o\":[\"d\",\"h\",\"n\",\"9\",\"w\",\"g\",\"4\"]},{\"P\":[\"n\"... -0.256950  None\n",
       "3  [{\"K\":[\"9\",\"E\",\"k\",\"y\",\"G\",\"r\",\"G\",\"h\"]},{\"Q\":... -0.728811  None\n",
       "4  [{\"X\":[\"d\",\"F\",\"W\",\"F\",\"l\",\"F\",\"A\",\"I\"],\"M\":[\"...  3.666800  None"
      ]
     },
     "execution_count": 3,
     "metadata": {},
     "output_type": "execute_result"
    }
   ],
   "source": [
    "print(train_data_df.shape)\n",
    "train_data_df.head()"
   ]
  },
  {
   "cell_type": "markdown",
   "id": "b19dbf2e",
   "metadata": {},
   "source": [
    "all2graph的设计目标是使用单机处理几十G甚是几个T的原始数据<br>\n",
    "一些小机器的内存可能无法载入完整的数据集，因此需要对数据进行分片存储<br>\n",
    "all2graph封装了分片的函数，可供调用<br>\n",
    "你也可以根据你的场景编写分片的代码"
   ]
  },
  {
   "cell_type": "code",
   "execution_count": 4,
   "id": "8fe8c6c3",
   "metadata": {},
   "outputs": [
    {
     "name": "stdout",
     "output_type": "stream",
     "text": [
      "10it [00:01,  8.03it/s, spliting csv]\n"
     ]
    }
   ],
   "source": [
    "train_path_df = ag.split_csv(\n",
    "    src=train_data_df, # 原始数据，可以是dataframe，path和list of path\n",
    "    dst='train_data', # 分片后的文件夹地址\n",
    "    chunksize=100, # 每一片的大小，建议根据你的机器配置设置，设的太大会影响后续训练速度，增大内存开销，设的太小会产生大量小文件\n",
    "    drop_cols=['x']\n",
    ")"
   ]
  },
  {
   "cell_type": "markdown",
   "id": "8f9bc376",
   "metadata": {},
   "source": [
    "train_path_df记录了每一条样本的分片文件路径和元信息<br>\n",
    "在后续的dataset构建中，我们会用到它"
   ]
  },
  {
   "cell_type": "code",
   "execution_count": 5,
   "id": "8c43c6bb",
   "metadata": {},
   "outputs": [
    {
     "data": {
      "text/html": [
       "<div>\n",
       "<style scoped>\n",
       "    .dataframe tbody tr th:only-of-type {\n",
       "        vertical-align: middle;\n",
       "    }\n",
       "\n",
       "    .dataframe tbody tr th {\n",
       "        vertical-align: top;\n",
       "    }\n",
       "\n",
       "    .dataframe thead th {\n",
       "        text-align: right;\n",
       "    }\n",
       "</style>\n",
       "<table border=\"1\" class=\"dataframe\">\n",
       "  <thead>\n",
       "    <tr style=\"text-align: right;\">\n",
       "      <th></th>\n",
       "      <th>y</th>\n",
       "      <th>time</th>\n",
       "      <th>path</th>\n",
       "    </tr>\n",
       "  </thead>\n",
       "  <tbody>\n",
       "    <tr>\n",
       "      <th>0</th>\n",
       "      <td>-0.547057</td>\n",
       "      <td>NaN</td>\n",
       "      <td>train_data\\0.zip</td>\n",
       "    </tr>\n",
       "    <tr>\n",
       "      <th>1</th>\n",
       "      <td>-0.421042</td>\n",
       "      <td>NaN</td>\n",
       "      <td>train_data\\0.zip</td>\n",
       "    </tr>\n",
       "    <tr>\n",
       "      <th>2</th>\n",
       "      <td>-0.256950</td>\n",
       "      <td>NaN</td>\n",
       "      <td>train_data\\0.zip</td>\n",
       "    </tr>\n",
       "    <tr>\n",
       "      <th>3</th>\n",
       "      <td>-0.728811</td>\n",
       "      <td>NaN</td>\n",
       "      <td>train_data\\0.zip</td>\n",
       "    </tr>\n",
       "    <tr>\n",
       "      <th>4</th>\n",
       "      <td>3.666800</td>\n",
       "      <td>NaN</td>\n",
       "      <td>train_data\\0.zip</td>\n",
       "    </tr>\n",
       "  </tbody>\n",
       "</table>\n",
       "</div>"
      ],
      "text/plain": [
       "          y  time              path\n",
       "0 -0.547057   NaN  train_data\\0.zip\n",
       "1 -0.421042   NaN  train_data\\0.zip\n",
       "2 -0.256950   NaN  train_data\\0.zip\n",
       "3 -0.728811   NaN  train_data\\0.zip\n",
       "4  3.666800   NaN  train_data\\0.zip"
      ]
     },
     "execution_count": 5,
     "metadata": {},
     "output_type": "execute_result"
    }
   ],
   "source": [
    "train_path_df = pd.read_csv('train_data_path.zip')\n",
    "train_path_df.head()"
   ]
  },
  {
   "cell_type": "markdown",
   "id": "a6a9ba67",
   "metadata": {},
   "source": [
    "## 2. 数据解析模块\n",
    "基于图结构生成对应的网络结果是一个繁琐且冗长的过程<br>\n",
    "all2graph提供了一个封装以供使用"
   ]
  },
  {
   "cell_type": "markdown",
   "id": "b93931de",
   "metadata": {},
   "source": [
    "JsonParser的输入是一个pandas dataframe，输入必须包含两列：<br>\n",
    "&emsp; json_col: 包含json数据的列<br>\n",
    "&emsp; time_col: 包含样本观察时间戳的列<br>\n",
    "注：<br>\n",
    "&emsp; 由于all2graph包含时序处理的功能，因此需要样本时间戳字段，用于序列时间的归一化<br>\n",
    "&emsp; 如果你的数据中没有时间戳信息，那么你可以将time_col这一列全部填充成None，但是不能没有这一列"
   ]
  },
  {
   "cell_type": "code",
   "execution_count": 6,
   "id": "72ce71d7",
   "metadata": {},
   "outputs": [],
   "source": [
    "data_parser = ag.JsonParser(\n",
    "    # 必填，包含json数据的列\n",
    "    json_col='x', \n",
    "    # 必填，包含样本观察时间戳的列\n",
    "    time_col='time', \n",
    "    # 如果time_col的值不为空，按么必填，需要是时间戳的格式，如”%Y-%m-%d“\n",
    "    time_format=None,\n",
    "    # 标签名\n",
    "    targets=['y']\n",
    ")"
   ]
  },
  {
   "cell_type": "markdown",
   "id": "5e13ff3c",
   "metadata": {},
   "source": [
    "让我们来进行一个演示<br>\n",
    "如图，data_parser将json字符串解析成了一个树状结构"
   ]
  },
  {
   "cell_type": "code",
   "execution_count": 7,
   "id": "b435460d",
   "metadata": {},
   "outputs": [
    {
     "data": {
      "text/plain": [
       "RawGraph(num_samples=1, num_keys=20, num_nodes=41, num_edges=40, num_targets=1)"
      ]
     },
     "execution_count": 7,
     "metadata": {},
     "output_type": "execute_result"
    },
    {
     "data": {
      "image/png": "[encoded data removed]",
      "text/plain": [
       "<Figure size 432x288 with 1 Axes>"
      ]
     },
     "metadata": {},
     "output_type": "display_data"
    }
   ],
   "source": [
    "demo_df = []\n",
    "x = []\n",
    "for _ in range(np.random.randint(1, 5)):\n",
    "    item = {\n",
    "        k: list(np.random.choice(list(string.ascii_letters)+list(string.digits), size=np.random.randint(1, 5)))\n",
    "        for k in np.random.choice(list(string.ascii_letters), size=np.random.randint(1, 5))\n",
    "    }\n",
    "    x.append(item)\n",
    "x = json.dumps(x, indent=None, separators=(',', ':'))\n",
    "y = np.mean(list(map(ord, x))) / 128\n",
    "demo_df=pd.DataFrame([{'x': x, 'y': y, 'time': None}])\n",
    "\n",
    "graph = data_parser(demo_df)\n",
    "graph.draw()\n",
    "graph"
   ]
  },
  {
   "cell_type": "markdown",
   "id": "26a37258",
   "metadata": {},
   "source": [
    "## 3. 模型注册"
   ]
  },
  {
   "cell_type": "code",
   "execution_count": 8,
   "id": "956105f2",
   "metadata": {},
   "outputs": [],
   "source": [
    "model = ag.nn.GATFM(\n",
    "    d_model=8,\n",
    "    num_layers=6,\n",
    "    num_heads=2,\n",
    "    data_parser=data_parser,\n",
    "    check_point='check_point'\n",
    ")\n",
    "if torch.cuda.is_available():\n",
    "    model.cuda()"
   ]
  },
  {
   "cell_type": "markdown",
   "id": "c2ec8a88",
   "metadata": {},
   "source": [
    "## 4. 模型训练\n",
    "在训练阶段分三个阶段:<br>\n",
    "首先，自动分析数据的类型，分布<br>\n",
    "然后，根据分析结果构建相应的数据集，和神经网络模块<br>\n",
    "最后，进行训练"
   ]
  },
  {
   "cell_type": "code",
   "execution_count": 9,
   "id": "cc99dfc5",
   "metadata": {},
   "outputs": [
    {
     "name": "stdout",
     "output_type": "stream",
     "text": [
      "graph_parser not set, start building\n",
      "meta_info not set, start building\n",
      "10it [00:03,  3.24it/s, analysing]\n",
      "MetaInfo(num_types=106, num_numbers=52)\n",
      "GraphParser(num_tokens=109, num_numbers=52, scale_method=prob, scale_kwargs={})\n",
      "Trainer(\n",
      "  optimizer=AdamW (\n",
      "  Parameter Group 0\n",
      "      amsgrad: False\n",
      "      betas: (0.9, 0.999)\n",
      "      eps: 1e-08\n",
      "      lr: 0.001\n",
      "      weight_decay: 0.01\n",
      "  ),\n",
      "  metrics=[\n",
      "    Metric(func=Metric(func=mean_squared_error, label_first=False), name=\"mse\")\n",
      "  ],\n",
      "  check_point=\"check_point.0.4.1\\20220518190127.337065\"\n",
      "  (module): GATFM(\n",
      "    num_parameters=6890\n",
      "    (module): Framework(\n",
      "      num_parameters=6890\n",
      "      (str_emb): Embedding(109, 8)\n",
      "      (key_emb): LSTM(8, 4, num_layers=2, batch_first=True, bidirectional=True)\n",
      "      (num_emb): NumEmb(\n",
      "        emb_dim=8, bias=True\n",
      "        (activation): PReLU(num_parameters=1)\n",
      "        (norm): BatchNorm1d(8, eps=1e-05, momentum=0.1, affine=True, track_running_stats=True)\n",
      "      )\n",
      "      (bottle_neck): BottleNeck(\n",
      "        num_parameters=153\n",
      "        (layers): Sequential(\n",
      "          (0): Dropout(p=0, inplace=False)\n",
      "          (1): Linear(in_features=16, out_features=8, bias=True)\n",
      "          (2): BatchNorm1d(8, eps=1e-05, momentum=0.1, affine=True, track_running_stats=True)\n",
      "          (3): PReLU(num_parameters=1)\n",
      "        )\n",
      "      )\n",
      "      (body): Body(\n",
      "        num_parameters=1686\n",
      "        (layers): ModuleList(\n",
      "          (0): Block(\n",
      "            num_parameters=281\n",
      "            (conv_layer): GATConv(\n",
      "              (fc): Linear(in_features=8, out_features=8, bias=False)\n",
      "              (feat_drop): Dropout(p=0, inplace=False)\n",
      "              (attn_drop): Dropout(p=0, inplace=False)\n",
      "              (leaky_relu): LeakyReLU(negative_slope=0.2)\n",
      "              (res_fc): Identity()\n",
      "            )\n",
      "            (ff): FeedForward(\n",
      "              num_parameters=193\n",
      "              (pre): BatchNorm1d(8, eps=1e-05, momentum=0.1, affine=True, track_running_stats=True)\n",
      "              (layers): Sequential(\n",
      "                (0): Dropout(p=0, inplace=False)\n",
      "                (1): Linear(in_features=8, out_features=8, bias=True)\n",
      "                (2): BatchNorm1d(8, eps=1e-05, momentum=0.1, affine=True, track_running_stats=True)\n",
      "                (3): PReLU(num_parameters=1)\n",
      "                (4): Linear(in_features=8, out_features=8, bias=True)\n",
      "              )\n",
      "              (norm): BatchNorm1d(8, eps=1e-05, momentum=0.1, affine=True, track_running_stats=True)\n",
      "            )\n",
      "          )\n",
      "          (1): Block(\n",
      "            num_parameters=281\n",
      "            (conv_layer): GATConv(\n",
      "              (fc): Linear(in_features=8, out_features=8, bias=False)\n",
      "              (feat_drop): Dropout(p=0, inplace=False)\n",
      "              (attn_drop): Dropout(p=0, inplace=False)\n",
      "              (leaky_relu): LeakyReLU(negative_slope=0.2)\n",
      "              (res_fc): Identity()\n",
      "            )\n",
      "            (ff): FeedForward(\n",
      "              num_parameters=193\n",
      "              (pre): BatchNorm1d(8, eps=1e-05, momentum=0.1, affine=True, track_running_stats=True)\n",
      "              (layers): Sequential(\n",
      "                (0): Dropout(p=0, inplace=False)\n",
      "                (1): Linear(in_features=8, out_features=8, bias=True)\n",
      "                (2): BatchNorm1d(8, eps=1e-05, momentum=0.1, affine=True, track_running_stats=True)\n",
      "                (3): PReLU(num_parameters=1)\n",
      "                (4): Linear(in_features=8, out_features=8, bias=True)\n",
      "              )\n",
      "              (norm): BatchNorm1d(8, eps=1e-05, momentum=0.1, affine=True, track_running_stats=True)\n",
      "            )\n",
      "          )\n",
      "          (2): Block(\n",
      "            num_parameters=281\n",
      "            (conv_layer): GATConv(\n",
      "              (fc): Linear(in_features=8, out_features=8, bias=False)\n",
      "              (feat_drop): Dropout(p=0, inplace=False)\n",
      "              (attn_drop): Dropout(p=0, inplace=False)\n",
      "              (leaky_relu): LeakyReLU(negative_slope=0.2)\n",
      "              (res_fc): Identity()\n",
      "            )\n",
      "            (ff): FeedForward(\n",
      "              num_parameters=193\n",
      "              (pre): BatchNorm1d(8, eps=1e-05, momentum=0.1, affine=True, track_running_stats=True)\n",
      "              (layers): Sequential(\n",
      "                (0): Dropout(p=0, inplace=False)\n",
      "                (1): Linear(in_features=8, out_features=8, bias=True)\n",
      "                (2): BatchNorm1d(8, eps=1e-05, momentum=0.1, affine=True, track_running_stats=True)\n",
      "                (3): PReLU(num_parameters=1)\n",
      "                (4): Linear(in_features=8, out_features=8, bias=True)\n",
      "              )\n",
      "              (norm): BatchNorm1d(8, eps=1e-05, momentum=0.1, affine=True, track_running_stats=True)\n",
      "            )\n",
      "          )\n",
      "          (3): Block(\n",
      "            num_parameters=281\n",
      "            (conv_layer): GATConv(\n",
      "              (fc): Linear(in_features=8, out_features=8, bias=False)\n",
      "              (feat_drop): Dropout(p=0, inplace=False)\n",
      "              (attn_drop): Dropout(p=0, inplace=False)\n",
      "              (leaky_relu): LeakyReLU(negative_slope=0.2)\n",
      "              (res_fc): Identity()\n",
      "            )\n",
      "            (ff): FeedForward(\n",
      "              num_parameters=193\n",
      "              (pre): BatchNorm1d(8, eps=1e-05, momentum=0.1, affine=True, track_running_stats=True)\n",
      "              (layers): Sequential(\n",
      "                (0): Dropout(p=0, inplace=False)\n",
      "                (1): Linear(in_features=8, out_features=8, bias=True)\n",
      "                (2): BatchNorm1d(8, eps=1e-05, momentum=0.1, affine=True, track_running_stats=True)\n",
      "                (3): PReLU(num_parameters=1)\n",
      "                (4): Linear(in_features=8, out_features=8, bias=True)\n",
      "              )\n",
      "              (norm): BatchNorm1d(8, eps=1e-05, momentum=0.1, affine=True, track_running_stats=True)\n",
      "            )\n",
      "          )\n",
      "          (4): Block(\n",
      "            num_parameters=281\n",
      "            (conv_layer): GATConv(\n",
      "              (fc): Linear(in_features=8, out_features=8, bias=False)\n",
      "              (feat_drop): Dropout(p=0, inplace=False)\n",
      "              (attn_drop): Dropout(p=0, inplace=False)\n",
      "              (leaky_relu): LeakyReLU(negative_slope=0.2)\n",
      "              (res_fc): Identity()\n",
      "            )\n",
      "            (ff): FeedForward(\n",
      "              num_parameters=193\n",
      "              (pre): BatchNorm1d(8, eps=1e-05, momentum=0.1, affine=True, track_running_stats=True)\n",
      "              (layers): Sequential(\n",
      "                (0): Dropout(p=0, inplace=False)\n",
      "                (1): Linear(in_features=8, out_features=8, bias=True)\n",
      "                (2): BatchNorm1d(8, eps=1e-05, momentum=0.1, affine=True, track_running_stats=True)\n",
      "                (3): PReLU(num_parameters=1)\n",
      "                (4): Linear(in_features=8, out_features=8, bias=True)\n",
      "              )\n",
      "              (norm): BatchNorm1d(8, eps=1e-05, momentum=0.1, affine=True, track_running_stats=True)\n",
      "            )\n",
      "          )\n",
      "          (5): Block(\n",
      "            num_parameters=281\n",
      "            (conv_layer): GATConv(\n",
      "              (fc): Linear(in_features=8, out_features=8, bias=False)\n",
      "              (feat_drop): Dropout(p=0, inplace=False)\n",
      "              (attn_drop): Dropout(p=0, inplace=False)\n",
      "              (leaky_relu): LeakyReLU(negative_slope=0.2)\n",
      "              (res_fc): Identity()\n",
      "            )\n",
      "            (ff): FeedForward(\n",
      "              num_parameters=193\n",
      "              (pre): BatchNorm1d(8, eps=1e-05, momentum=0.1, affine=True, track_running_stats=True)\n",
      "              (layers): Sequential(\n",
      "                (0): Dropout(p=0, inplace=False)\n",
      "                (1): Linear(in_features=8, out_features=8, bias=True)\n",
      "                (2): BatchNorm1d(8, eps=1e-05, momentum=0.1, affine=True, track_running_stats=True)\n",
      "                (3): PReLU(num_parameters=1)\n",
      "                (4): Linear(in_features=8, out_features=8, bias=True)\n",
      "              )\n",
      "              (norm): BatchNorm1d(8, eps=1e-05, momentum=0.1, affine=True, track_running_stats=True)\n",
      "            )\n",
      "          )\n",
      "        )\n",
      "      )\n",
      "      (head): Head(\n",
      "        num_parameters=3250\n",
      "        (layers): Sequential(\n",
      "          (0): Dropout(p=0, inplace=False)\n",
      "          (1): Linear(in_features=56, out_features=56, bias=True)\n",
      "          (2): Identity()\n",
      "          (3): PReLU(num_parameters=1)\n",
      "          (4): Linear(in_features=56, out_features=1, bias=True)\n",
      "        )\n",
      "      )\n",
      "    )\n",
      "  )\n",
      "  (loss): DictLoss(\n",
      "    num_parameters=0\n",
      "    (torch_loss): MSELoss()\n",
      "  )\n",
      ")\n"
     ]
    },
    {
     "name": "stdout",
     "output_type": "stream",
     "text": [
      "epoch 1 train: 100%|#######################################################################################################################################################################################################################################################| 16/16 [00:23<00:00,  1.45s/it, loss=0.999]\n",
      "epoch 1 val 0: 100%|###################################################################################################################################################################################################################################################################| 16/16 [00:16<00:00,  1.01s/it]\n",
      "epoch 1 train metrics: {\"mse\": {\"y\": 1.003}}\n",
      "epoch 1 val 0 metrics: {\"mse\": {\"y\": 1.005}}\n",
      "save at \"check_point.0.4.1\\20220518190127.337065\\1.all2graph.trainer\"\n",
      "epoch 2 train: 100%|#######################################################################################################################################################################################################################################################| 16/16 [00:22<00:00,  1.41s/it, loss=0.977]\n",
      "epoch 2 val 0: 100%|###################################################################################################################################################################################################################################################################| 16/16 [00:16<00:00,  1.02s/it]\n",
      "epoch 2 train metrics: {\"mse\": {\"y\": 0.993}}\n",
      "epoch 2 val 0 metrics: {\"mse\": {\"y\": 0.985}}\n",
      "save at \"check_point.0.4.1\\20220518190127.337065\\2.all2graph.trainer\"\n",
      "save at \"check_point.0.4.1\\20220518190127.337065\\2.all2graph.trainer\"\n"
     ]
    }
   ],
   "source": [
    "model.fit(\n",
    "    train_path_df,\n",
    "    epoches=2,  # 训练轮数\n",
    "    batch_size=64,  # 梯度下降的样本数量\n",
    "    chunksize=100,  # 分析阶段的分片样本数量\n",
    "    loss=torch.nn.MSELoss(),  # 损失函数\n",
    "    metrics={'mse': mean_squared_error},  # 评估函数\n",
    "    valid_data=[train_path_df],\n",
    "    processes=os.cpu_count()-1,   # 多进程数量\n",
    "\n",
    ")"
   ]
  },
  {
   "cell_type": "markdown",
   "id": "1fa832d1",
   "metadata": {},
   "source": [
    "## 5. 模型预测\n",
    "在训练阶段分两种模式:<br>\n",
    "第一种，使用forward函数单独预测一个batch<br>\n",
    "第二种，使用predict批量预测"
   ]
  },
  {
   "cell_type": "code",
   "execution_count": 10,
   "id": "0bdf1523",
   "metadata": {},
   "outputs": [
    {
     "name": "stdout",
     "output_type": "stream",
     "text": [
      "{'y': tensor([-0.0493, -0.0384, -0.0061, -0.0331, -0.0187, -0.0037, -0.0182, -0.0379,\n",
      "        -0.0126, -0.0386])}\n"
     ]
    }
   ],
   "source": [
    "with torch.no_grad():\n",
    "    model.eval()\n",
    "    print(model(train_data_df.iloc[:10]))"
   ]
  },
  {
   "cell_type": "code",
   "execution_count": 11,
   "id": "b5cf02b9",
   "metadata": {},
   "outputs": [
    {
     "name": "stdout",
     "output_type": "stream",
     "text": [
      "10it [00:07,  1.33it/s, parsing]\n"
     ]
    }
   ],
   "source": [
    "pred_df = model.predict('train_data', chunksize=100)"
   ]
  },
  {
   "cell_type": "code",
   "execution_count": 12,
   "id": "b7d0a58c",
   "metadata": {},
   "outputs": [
    {
     "name": "stdout",
     "output_type": "stream",
     "text": [
      "10it [00:06,  1.46it/s, parsing]\n"
     ]
    }
   ],
   "source": [
    "pred_df = model.predict(train_data_df, chunksize=100)"
   ]
  }
 ],
 "metadata": {
  "kernelspec": {
   "display_name": "py37th110",
   "language": "python",
   "name": "py37th110"
  },
  "language_info": {
   "codemirror_mode": {
    "name": "ipython",
    "version": 3
   },
   "file_extension": ".py",
   "mimetype": "text/x-python",
   "name": "python",
   "nbconvert_exporter": "python",
   "pygments_lexer": "ipython3",
   "version": "3.7.13"
  }
 },
 "nbformat": 4,
 "nbformat_minor": 5
}
